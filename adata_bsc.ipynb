{
 "cells": [
  {
   "cell_type": "code",
   "execution_count": 1,
   "id": "8341e425",
   "metadata": {},
   "outputs": [],
   "source": [
    "import scanpy as sc\n",
    "import pandas as pd\n",
    "import numpy as np\n",
    "import collections \n",
    "import matplotlib.pyplot as plt\n",
    "%matplotlib inline"
   ]
  },
  {
   "cell_type": "code",
   "execution_count": 2,
   "id": "af9f683d",
   "metadata": {},
   "outputs": [],
   "source": [
    "path  = \"smaller_dada.h5ad\"\n",
    "adata = sc.read_h5ad(path)"
   ]
  },
  {
   "cell_type": "code",
   "execution_count": 3,
   "id": "125b6519",
   "metadata": {},
   "outputs": [],
   "source": [
    "def create_connectivity_matrix(adata):\n",
    "    positions_in_tissue = adata.obs[adata.obs.columns[:3]][adata.obs.in_tissue ==1]\n",
    "    barcodes_in_tissue = positions_in_tissue.index\n",
    "    nbarcodes_in_tissue = len(positions_in_tissue)\n",
    "    positions_in_tissue = positions_in_tissue.reset_index().rename(columns={'index':'_id'})\n",
    "\n",
    "    C = np.zeros([nbarcodes_in_tissue, nbarcodes_in_tissue])\n",
    "    for idx, barcode in enumerate(barcodes_in_tissue):\n",
    "\n",
    "        row_i  = int(positions_in_tissue[positions_in_tissue['_id'] == barcode ]['array_row'])\n",
    "        col_i= int(positions_in_tissue[positions_in_tissue['_id'] == barcode ]['array_col'])\n",
    "\n",
    "        condition = ((positions_in_tissue['array_row'] == row_i-1 )&(positions_in_tissue['array_col'] == col_i-1))\\\n",
    "                    | ((positions_in_tissue['array_row'] == row_i-1 )&(positions_in_tissue['array_col'] == col_i+1))\\\n",
    "                    | ((positions_in_tissue['array_row'] == row_i )&(positions_in_tissue['array_col'] == col_i-2))\\\n",
    "                    | ((positions_in_tissue['array_row'] == row_i)&(positions_in_tissue['array_col'] == col_i+2))\\\n",
    "                    | ((positions_in_tissue['array_row'] == row_i+1 )&(positions_in_tissue['array_col'] == col_i-1))\\\n",
    "                    | (positions_in_tissue['array_row'] == row_i+1 )&(positions_in_tissue['array_col'] == col_i+1)\n",
    "        tmp = positions_in_tissue[condition]\n",
    "\n",
    "        if len(tmp) > 0:\n",
    "            for j in tmp.index:\n",
    "                C[idx, j] = 1\n",
    "\n",
    "    row_sums = C.sum(1)\n",
    "    row_sums[row_sums == 0] = 1e-14\n",
    "    W = C / row_sums.reshape(-1, 1)\n",
    "\n",
    "    conn_info = dict()\n",
    "    conn_info['L_estimate_divR'] = np.diagonal((np.dot(W, W).T)).sum() / (nbarcodes_in_tissue - 1)\n",
    "    conn_info['barcodes_in_tissue'] = barcodes_in_tissue.tolist()\n",
    "    conn_info['nbarcodes_in_tissue'] = nbarcodes_in_tissue\n",
    "    conn_info['W'] = W\n",
    "    conn_info['C'] = C\n",
    "\n",
    "    return conn_info"
   ]
  },
  {
   "cell_type": "code",
   "execution_count": 4,
   "id": "moderate-maine",
   "metadata": {},
   "outputs": [],
   "source": [
    "conn_info = create_connectivity_matrix(adata)"
   ]
  },
  {
   "cell_type": "code",
   "execution_count": null,
   "id": "bound-emerald",
   "metadata": {},
   "outputs": [],
   "source": []
  },
  {
   "cell_type": "code",
   "execution_count": 6,
   "id": "intimate-comparison",
   "metadata": {},
   "outputs": [],
   "source": [
    "def calculate_bsc(feature1, feature2, adata, conn_info):\n",
    "    gene_names = adata.var.index.tolist()\n",
    "    row_col = adata.obs[['array_row', 'array_col']].values.astype(int)\n",
    "    df = pd.DataFrame(data=np.concatenate((row_col, adata.X), axis=1), columns=['row', 'col'] + gene_names)\n",
    "\n",
    "    x_values = df[feature1].values\n",
    "    y_values = df[feature2].values\n",
    "\n",
    "    x_mean = np.mean(x_values)\n",
    "    y_mean = np.mean(y_values)\n",
    "\n",
    "    x_smooth = np.dot(conn_info['W'], x_values)\n",
    "    y_smooth = np.dot(conn_info['W'], y_values)\n",
    "\n",
    "    x_mean_sm = np.mean(x_smooth) # muX\n",
    "    y_mean_sm = np.mean(y_smooth) # muY\n",
    "\n",
    "    # Calculate Peason's r(X,Y), r(smooth), L_XX, L_YY, L_XY as in Lee S (2001)\n",
    "    r = sum((x_values - x_mean) * (y_values - y_mean)) \\\n",
    "       / (np.sqrt(sum((x_values - x_mean) ** 2)) * np.sqrt(sum((y_values - y_mean) ** 2)))\n",
    "    r_sm = sum((x_smooth - x_mean_sm) * (y_smooth - y_mean_sm)) \\\n",
    "          / (np.sqrt(sum((x_smooth - x_mean_sm) ** 2)) * np.sqrt(sum((y_smooth - y_mean_sm) ** 2)))\n",
    "\n",
    "    L_XX = sum((x_smooth - x_mean) ** 2) / sum((x_values - x_mean) ** 2)\n",
    "    L_YY = sum((y_smooth - y_mean) ** 2) / sum((y_values - y_mean) ** 2)\n",
    "    L_XY = np.sqrt(L_XX) * np.sqrt(L_YY) * r_sm\n",
    "\n",
    "    bsc = {\n",
    "        'r': r,\n",
    "        'r_sm': r_sm,\n",
    "        'L_XX': L_XX,\n",
    "        'L_YY': L_YY,\n",
    "        'L_XY': L_XY\n",
    "    }\n",
    "\n",
    "    return bsc"
   ]
  },
  {
   "cell_type": "code",
   "execution_count": 7,
   "id": "a4a59d46",
   "metadata": {},
   "outputs": [],
   "source": [
    "bsc = calculate_bsc('Ttr', 'Ecrg4', adata, conn_info)"
   ]
  },
  {
   "cell_type": "code",
   "execution_count": 8,
   "id": "behavioral-number",
   "metadata": {},
   "outputs": [
    {
     "data": {
      "text/plain": [
       "{'r': 0.6207497681119728,\n",
       " 'r_sm': 0.7803523788309347,\n",
       " 'L_XX': 0.8702965163074358,\n",
       " 'L_YY': 0.63744614853193,\n",
       " 'L_XY': 0.5812274701776152}"
      ]
     },
     "execution_count": 8,
     "metadata": {},
     "output_type": "execute_result"
    }
   ],
   "source": [
    "bsc"
   ]
  },
  {
   "cell_type": "code",
   "execution_count": null,
   "id": "coastal-slide",
   "metadata": {},
   "outputs": [],
   "source": []
  },
  {
   "cell_type": "code",
   "execution_count": 16,
   "id": "cardiovascular-horror",
   "metadata": {
    "scrolled": false
   },
   "outputs": [],
   "source": [
    "import itertools\n",
    "gene_names = adata.var.index.tolist()\n",
    "\n",
    "for gene1, gene2 in itertools.combinations(gene_names, 2):\n",
    "    print(gene1, gene2)"
   ]
  },
  {
   "cell_type": "code",
   "execution_count": null,
   "id": "vital-hopkins",
   "metadata": {},
   "outputs": [],
   "source": []
  },
  {
   "cell_type": "code",
   "execution_count": null,
   "id": "encouraging-lease",
   "metadata": {},
   "outputs": [],
   "source": []
  },
  {
   "cell_type": "code",
   "execution_count": null,
   "id": "disciplinary-savage",
   "metadata": {},
   "outputs": [],
   "source": []
  },
  {
   "cell_type": "code",
   "execution_count": null,
   "id": "daily-integrity",
   "metadata": {},
   "outputs": [],
   "source": []
  },
  {
   "cell_type": "code",
   "execution_count": null,
   "id": "running-brook",
   "metadata": {},
   "outputs": [],
   "source": []
  }
 ],
 "metadata": {
  "kernelspec": {
   "display_name": "python37",
   "language": "python",
   "name": "python37"
  },
  "language_info": {
   "codemirror_mode": {
    "name": "ipython",
    "version": 3
   },
   "file_extension": ".py",
   "mimetype": "text/x-python",
   "name": "python",
   "nbconvert_exporter": "python",
   "pygments_lexer": "ipython3",
   "version": "3.7.10"
  }
 },
 "nbformat": 4,
 "nbformat_minor": 5
}
